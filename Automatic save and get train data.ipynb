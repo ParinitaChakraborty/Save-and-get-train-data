{
 "cells": [
  {
   "cell_type": "code",
   "execution_count": 3,
   "id": "3bc2aac7",
   "metadata": {},
   "outputs": [
    {
     "data": {
      "text/plain": [
       "['music-recommender.joblib']"
      ]
     },
     "execution_count": 3,
     "metadata": {},
     "output_type": "execute_result"
    }
   ],
   "source": [
    "# import pandas as pd\n",
    "# from sklearn.tree import DecisionTreeClassifier\n",
    "# import joblib\n",
    "\n",
    "# # df= pd.read_csv('/Users/parinita/Documents/CSV-Files/music.csv')\n",
    "# # X=df.drop(columns=['genre'])\n",
    "# # y=df['genre']\n",
    "\n",
    "# # model = DecisionTreeClassifier()\n",
    "# # model.fit(X,y)\n",
    "\n",
    "# joblib.dump(model, 'music-recommender.joblib')\n",
    "\n",
    "# #predictions = model.predict([[21,1]])"
   ]
  },
  {
   "cell_type": "code",
   "execution_count": 13,
   "id": "6cd33280",
   "metadata": {},
   "outputs": [
    {
     "data": {
      "text/plain": [
       "array(['HipHop'], dtype=object)"
      ]
     },
     "execution_count": 13,
     "metadata": {},
     "output_type": "execute_result"
    }
   ],
   "source": [
    "import pandas as pd\n",
    "from sklearn.tree import DecisionTreeClassifier\n",
    "import joblib\n",
    "\n",
    "df= pd.read_csv('/Users/parinita/Documents/CSV-Files/music.csv')\n",
    "X=df.drop(columns=['genre'])\n",
    "y=df['genre']\n",
    "\n",
    "model = DecisionTreeClassifier()\n",
    "model.fit(X,y)\n",
    "\n",
    "model = joblib.load('music-recommender.joblib')\n",
    "predictions = model.predict([[21,1]])\n",
    "predictions"
   ]
  },
  {
   "cell_type": "code",
   "execution_count": null,
   "id": "ecc85ca2",
   "metadata": {},
   "outputs": [],
   "source": []
  }
 ],
 "metadata": {
  "kernelspec": {
   "display_name": "Python 3",
   "language": "python",
   "name": "python3"
  },
  "language_info": {
   "codemirror_mode": {
    "name": "ipython",
    "version": 3
   },
   "file_extension": ".py",
   "mimetype": "text/x-python",
   "name": "python",
   "nbconvert_exporter": "python",
   "pygments_lexer": "ipython3",
   "version": "3.8.8"
  }
 },
 "nbformat": 4,
 "nbformat_minor": 5
}
